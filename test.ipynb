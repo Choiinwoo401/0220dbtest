{
 "cells": [
  {
   "cell_type": "code",
   "execution_count": 6,
   "metadata": {},
   "outputs": [],
   "source": [
    "import xml.etree.ElementTree as ET"
   ]
  },
  {
   "cell_type": "code",
   "execution_count": 39,
   "metadata": {},
   "outputs": [],
   "source": [
    "tree = ET.parse('final.xml')\n",
    "root = tree.getroot()"
   ]
  },
  {
   "cell_type": "code",
   "execution_count": 8,
   "metadata": {},
   "outputs": [
    {
     "name": "stdout",
     "output_type": "stream",
     "text": [
      "release {'id': '1'}\n",
      "release {'id': '2'}\n",
      "release {'id': '3'}\n"
     ]
    }
   ],
   "source": [
    "for child in root:\n",
    "    print(child.tag, child.attrib)"
   ]
  },
  {
   "cell_type": "code",
   "execution_count": 16,
   "metadata": {},
   "outputs": [],
   "source": [
    "\n",
    "import pandas as pd\n",
    "\n",
    "import sys\n",
    "if sys.version_info[0] == 3:\n",
    "    from urllib.request import urlopen\n",
    "else:\n",
    "    from urllib import urlopen\n"
   ]
  },
  {
   "cell_type": "code",
   "execution_count": null,
   "metadata": {},
   "outputs": [],
   "source": [
    "pip install python3-discogs-client"
   ]
  },
  {
   "cell_type": "code",
   "execution_count": 10,
   "metadata": {},
   "outputs": [],
   "source": [
    "rows = []\n",
    "\n",
    "for node in root:\n",
    "    n_title = node.attrib[\"id\"]\n",
    "    #n_genre = node.find(\"genre\").text\n",
    "    rows.append({\"title\":n_title})\n",
    "    "
   ]
  },
  {
   "cell_type": "code",
   "execution_count": 74,
   "metadata": {},
   "outputs": [],
   "source": [
    "import discogs_client\n",
    "\n",
    "d = discogs_client.Client('ExampleApplication/0.1', user_token = 'WkcTWMWNFmwUFYHrtQIreHRnLmyFZTNnkflNHsgc')\n"
   ]
  },
  {
   "cell_type": "code",
   "execution_count": 77,
   "metadata": {},
   "outputs": [
    {
     "name": "stdout",
     "output_type": "stream",
     "text": [
      "    id         genre                 styles  \\\n",
      "0  121  [Electronic]  [Hardcore, Breakbeat]   \n",
      "\n",
      "                                                 uri  \n",
      "0  https://i.discogs.com/V7w_rfIEDOXNGCclcLctqnrS...  \n"
     ]
    }
   ],
   "source": [
    "master = []\n",
    "masters = []\n",
    "\n",
    "for release in root.iter('master'):\n",
    "    id = release.attrib.get('id')\n",
    "    gens = []\n",
    "    for gen in release.iter('genre'):\n",
    "        gens.append(gen.text)\n",
    "    stys = []\n",
    "    for sty in release.iter('style'):\n",
    "        stys.append(sty.text)\n",
    "    uri = d.master(id).images[0]['uri']\n",
    "    \n",
    "    master = [id, gens, stys, uri]\n",
    "    \n",
    "    masters.append(master)\n",
    "\n",
    "df = pd.DataFrame(masters, columns=['id', 'genre', 'styles', 'uri'])\n",
    "\n",
    "print(df)"
   ]
  },
  {
   "cell_type": "code",
   "execution_count": 41,
   "metadata": {},
   "outputs": [],
   "source": [
    "DISCOGS_KEY = 'OKxXReJmUJvMJRRsaOqr'\n",
    "DISCOGS_SECRET = 'RormADbxpiujDCXDiBDwFGUFxKrVjkTK'"
   ]
  },
  {
   "cell_type": "code",
   "execution_count": null,
   "metadata": {},
   "outputs": [],
   "source": []
  },
  {
   "cell_type": "code",
   "execution_count": 73,
   "metadata": {},
   "outputs": [
    {
     "name": "stdout",
     "output_type": "stream",
     "text": [
      "https://i.discogs.com/V7w_rfIEDOXNGCclcLctqnrS3W1NfA45cGYKGWNlaxg/rs:fit/g:sm/q:90/h:600/w:600/czM6Ly9kaXNjb2dz/LWltYWdlcy9SLTEw/NDAzOC0xMjI3NDQ1/MTc5LmpwZWc.jpeg\n"
     ]
    }
   ],
   "source": [
    "import discogs_client\n",
    "\n",
    "d = discogs_client.Client('ExampleApplication/0.1', user_token = 'WkcTWMWNFmwUFYHrtQIreHRnLmyFZTNnkflNHsgc')\n",
    "\n",
    "num = 121\n",
    "\n",
    "asd = d.master(num).images[0]\n",
    "\n",
    "type(asd)\n",
    "#print(result)\n",
    "\n",
    "print(asd['uri'])\n"
   ]
  },
  {
   "cell_type": "code",
   "execution_count": null,
   "metadata": {},
   "outputs": [],
   "source": []
  },
  {
   "cell_type": "code",
   "execution_count": null,
   "metadata": {},
   "outputs": [],
   "source": []
  },
  {
   "cell_type": "code",
   "execution_count": null,
   "metadata": {},
   "outputs": [],
   "source": []
  },
  {
   "cell_type": "code",
   "execution_count": null,
   "metadata": {},
   "outputs": [],
   "source": [
    "from bs4 import BeautifulSoup\n",
    "import re\n",
    "import urllib.request\n",
    "from urllib.request import urlopen\n",
    "import pandas as pd\n",
    "\n",
    "url = open(r\"C:\\Users\\cid2r\\Documents\\!VSCode\\0220dbtest\\rel.xml\")\n",
    "\n",
    "soup = BeautifulSoup(url, \"html.parser\")\n",
    "\n",
    "\n",
    "data = {'id' : [], 'genre' : []}\n",
    "\n",
    "\n",
    "for release in soup.select('release'):\n",
    "    data['id'].append(release['id'])\n",
    "    for gen in release.select('genre'):\n",
    "        data['genre'].append(gen)\n",
    "\n",
    "asdf = pd.DataFrame(data)\n",
    "\n",
    "print(data)\n",
    "\n",
    "#print(asdf)\n"
   ]
  },
  {
   "cell_type": "code",
   "execution_count": 19,
   "metadata": {},
   "outputs": [
    {
     "name": "stdout",
     "output_type": "stream",
     "text": [
      "==========\n",
      "1\n",
      "jazz\n",
      "soul\n",
      "100\n",
      "==========\n",
      "3\n",
      "rock\n",
      "300\n"
     ]
    }
   ],
   "source": [
    "\n",
    "\n",
    "for child in root:\n",
    "    if(child.find(\"master_id\") != None):\n",
    "        print(\"=\" * 10)\n",
    "        print(child.attrib[\"id\"])\n",
    "        for gens in child.iter(\"genres\"):\n",
    "            for gen in gens.findall(\"genre\"):\n",
    "                print(gen.text)\n",
    "        for mr in child.iter(\"master_id\"):\n",
    "            print(mr.text)\n",
    "        ##child.write(\"output.xml\", encoding=\"utf-8\", xml_declaration=True)\n",
    "        "
   ]
  },
  {
   "cell_type": "code",
   "execution_count": null,
   "metadata": {},
   "outputs": [],
   "source": []
  }
 ],
 "metadata": {
  "interpreter": {
   "hash": "57baa5815c940fdaff4d14510622de9616cae602444507ba5d0b6727c008cbd6"
  },
  "kernelspec": {
   "display_name": "Python 3.7.8 64-bit",
   "language": "python",
   "name": "python3"
  },
  "language_info": {
   "codemirror_mode": {
    "name": "ipython",
    "version": 3
   },
   "file_extension": ".py",
   "mimetype": "text/x-python",
   "name": "python",
   "nbconvert_exporter": "python",
   "pygments_lexer": "ipython3",
   "version": "3.9.10"
  },
  "orig_nbformat": 4
 },
 "nbformat": 4,
 "nbformat_minor": 2
}
